{
  "nbformat": 4,
  "nbformat_minor": 0,
  "metadata": {
    "colab": {
      "provenance": [],
      "authorship_tag": "ABX9TyNtrWvffRwHmu/OqfXWnIkj",
      "include_colab_link": true
    },
    "kernelspec": {
      "name": "python3",
      "display_name": "Python 3"
    },
    "language_info": {
      "name": "python"
    }
  },
  "cells": [
    {
      "cell_type": "markdown",
      "metadata": {
        "id": "view-in-github",
        "colab_type": "text"
      },
      "source": [
        "<a href=\"https://colab.research.google.com/github/Pedro-hn/Pre-processing/blob/main/Tratamento_de_variaveis_categoricas.ipynb\" target=\"_parent\"><img src=\"https://colab.research.google.com/assets/colab-badge.svg\" alt=\"Open In Colab\"/></a>"
      ]
    },
    {
      "cell_type": "code",
      "source": [
        "import pandas as pd\n",
        "import numpy as np"
      ],
      "metadata": {
        "id": "v6O7uU3dTAUB"
      },
      "execution_count": null,
      "outputs": []
    },
    {
      "cell_type": "markdown",
      "source": [
        "One Hot Encoding"
      ],
      "metadata": {
        "id": "yJZkbT2TSs6N"
      }
    },
    {
      "cell_type": "code",
      "source": [
        "dummy = pd.get_dummies(data=dados, columns=['variavel1', 'variavel2'], prefix=\"prefixo\", drop_first= True)"
      ],
      "metadata": {
        "id": "xCUMkT8KSsGc"
      },
      "execution_count": null,
      "outputs": []
    },
    {
      "cell_type": "markdown",
      "source": [
        "Label Encoding"
      ],
      "metadata": {
        "id": "tJnLqdlwSVen"
      }
    },
    {
      "cell_type": "code",
      "source": [
        "from sklearn.preprocessing import LabelEncoder"
      ],
      "metadata": {
        "id": "U9E5XzdbSq9h"
      },
      "execution_count": null,
      "outputs": []
    },
    {
      "cell_type": "code",
      "execution_count": null,
      "metadata": {
        "id": "7Wkgr2MnRGah"
      },
      "outputs": [],
      "source": [
        "label_encoder =  LabelEncoder()"
      ]
    },
    {
      "cell_type": "code",
      "source": [
        "dados['variavel1'] = label_encoder.fit_transform(dados['variavel1'])"
      ],
      "metadata": {
        "id": "whdjqvBgVg5O"
      },
      "execution_count": null,
      "outputs": []
    },
    {
      "cell_type": "code",
      "source": [
        "for i in dados.select_dtypes(include='object'):\n",
        "    dados[i] = label_encoder.fit_transform(dados[i])"
      ],
      "metadata": {
        "id": "uet7xzBFWGbo"
      },
      "execution_count": null,
      "outputs": []
    },
    {
      "cell_type": "markdown",
      "source": [
        "Ordinal Encoder"
      ],
      "metadata": {
        "id": "buIxoyf-xWXE"
      }
    },
    {
      "cell_type": "code",
      "source": [
        "from sklearn.preprocessing import OrdinalEncoder"
      ],
      "metadata": {
        "id": "62TDmzOsxYQK"
      },
      "execution_count": null,
      "outputs": []
    },
    {
      "cell_type": "code",
      "source": [
        "# mostra quais são as categorias da variável\n",
        "dados['sexo'].unique()"
      ],
      "metadata": {
        "id": "yiDe-vNc6GI2",
        "collapsed": true,
        "colab": {
          "base_uri": "https://localhost:8080/",
          "height": 158
        },
        "outputId": "04b15f7d-9d8d-4fb6-ae24-f365e879b408"
      },
      "execution_count": null,
      "outputs": [
        {
          "output_type": "error",
          "ename": "NameError",
          "evalue": "name 'dados' is not defined",
          "traceback": [
            "\u001b[0;31m---------------------------------------------------------------------------\u001b[0m",
            "\u001b[0;31mNameError\u001b[0m                                 Traceback (most recent call last)",
            "\u001b[0;32m<ipython-input-1-e9dec652c007>\u001b[0m in \u001b[0;36m<cell line: 0>\u001b[0;34m()\u001b[0m\n\u001b[1;32m      1\u001b[0m \u001b[0;31m# mostra quais são as categorias da variável\u001b[0m\u001b[0;34m\u001b[0m\u001b[0;34m\u001b[0m\u001b[0m\n\u001b[0;32m----> 2\u001b[0;31m \u001b[0mdados\u001b[0m\u001b[0;34m[\u001b[0m\u001b[0;34m'sexo'\u001b[0m\u001b[0;34m]\u001b[0m\u001b[0;34m.\u001b[0m\u001b[0munique\u001b[0m\u001b[0;34m(\u001b[0m\u001b[0;34m)\u001b[0m\u001b[0;34m\u001b[0m\u001b[0;34m\u001b[0m\u001b[0m\n\u001b[0m",
            "\u001b[0;31mNameError\u001b[0m: name 'dados' is not defined"
          ]
        }
      ]
    },
    {
      "cell_type": "code",
      "source": [
        "# após copiar as categorias salvar em um objeto\n",
        "categorias =  ['categoria1', 'categoria2', 'categoria3']"
      ],
      "metadata": {
        "id": "Gw-1mimO6ekj"
      },
      "execution_count": null,
      "outputs": []
    },
    {
      "cell_type": "code",
      "source": [
        "enc = OrdinalEncoder(categories=[categorias])"
      ],
      "metadata": {
        "id": "xA90kErl6ssy"
      },
      "execution_count": null,
      "outputs": []
    },
    {
      "cell_type": "code",
      "source": [
        "dados['variavel_categorica'] = enc.fit_transform(dados[['variavel_categorica']])"
      ],
      "metadata": {
        "id": "c-_85R9P614h"
      },
      "execution_count": null,
      "outputs": []
    }
  ]
}