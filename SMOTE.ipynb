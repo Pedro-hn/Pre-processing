{
  "nbformat": 4,
  "nbformat_minor": 0,
  "metadata": {
    "colab": {
      "provenance": [],
      "authorship_tag": "ABX9TyPXKYA/01NfnaQ5NqT8QVu5",
      "include_colab_link": true
    },
    "kernelspec": {
      "name": "python3",
      "display_name": "Python 3"
    },
    "language_info": {
      "name": "python"
    }
  },
  "cells": [
    {
      "cell_type": "markdown",
      "metadata": {
        "id": "view-in-github",
        "colab_type": "text"
      },
      "source": [
        "<a href=\"https://colab.research.google.com/github/Pedro-hn/Pre-processing/blob/main/SMOTE.ipynb\" target=\"_parent\"><img src=\"https://colab.research.google.com/assets/colab-badge.svg\" alt=\"Open In Colab\"/></a>"
      ]
    },
    {
      "cell_type": "code",
      "execution_count": null,
      "metadata": {
        "id": "y5s5N1UCbWEF"
      },
      "outputs": [],
      "source": [
        "# técnica do OverSampling\n",
        "from imblearn.over_sampling import SMOTE\n",
        "\n",
        "sm = SMOTE(random_state=42, sampling_strategy='minority')\n",
        "X_sm_train, y_sm_train = sm.fit_resample(X_train, y_train)"
      ]
    },
    {
      "cell_type": "code",
      "source": [
        "y_sm_train.value_counts()"
      ],
      "metadata": {
        "id": "jxSon7qybrgG"
      },
      "execution_count": null,
      "outputs": []
    }
  ]
}