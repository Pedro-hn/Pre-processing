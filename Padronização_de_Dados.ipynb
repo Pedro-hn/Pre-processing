{
  "nbformat": 4,
  "nbformat_minor": 0,
  "metadata": {
    "colab": {
      "provenance": [],
      "authorship_tag": "ABX9TyNeNTps5SRMK+aDwrxo7xrq",
      "include_colab_link": true
    },
    "kernelspec": {
      "name": "python3",
      "display_name": "Python 3"
    },
    "language_info": {
      "name": "python"
    }
  },
  "cells": [
    {
      "cell_type": "markdown",
      "metadata": {
        "id": "view-in-github",
        "colab_type": "text"
      },
      "source": [
        "<a href=\"https://colab.research.google.com/github/Pedro-hn/Pre-processing/blob/main/Padroniza%C3%A7%C3%A3o_de_Dados.ipynb\" target=\"_parent\"><img src=\"https://colab.research.google.com/assets/colab-badge.svg\" alt=\"Open In Colab\"/></a>"
      ]
    },
    {
      "cell_type": "markdown",
      "source": [
        "Standardization - Padronização pela normal"
      ],
      "metadata": {
        "id": "yUvzRvGc7QNq"
      }
    },
    {
      "cell_type": "markdown",
      "source": [
        "Biblioteca"
      ],
      "metadata": {
        "id": "Yns8-OBF7bqR"
      }
    },
    {
      "cell_type": "code",
      "source": [
        "from sklearn.preprocessing import StandardScaler\n",
        "padronizador = StandardScaler()"
      ],
      "metadata": {
        "id": "K88mHyit7nSy"
      },
      "execution_count": null,
      "outputs": []
    },
    {
      "cell_type": "code",
      "source": [
        "padronizador.fit(X_dados)"
      ],
      "metadata": {
        "id": "TShWXhgZ9obi"
      },
      "execution_count": null,
      "outputs": []
    },
    {
      "cell_type": "code",
      "source": [
        "X_train_padronizado = padronizador.transform(X_train)\n",
        "X_test_padronizado = padronizador.transform(X_test)"
      ],
      "metadata": {
        "id": "SBZIL4lvA6xx"
      },
      "execution_count": null,
      "outputs": []
    },
    {
      "cell_type": "markdown",
      "source": [
        "Normalization - Normalização dos dos (ficam entre 0 e 1)"
      ],
      "metadata": {
        "id": "NutVXYFU-eTB"
      }
    },
    {
      "cell_type": "markdown",
      "source": [
        "Biblioteca"
      ],
      "metadata": {
        "id": "rSRITfvNBStp"
      }
    },
    {
      "cell_type": "code",
      "source": [
        "from sklearn.preprocessing import MinMaxScaler\n",
        "normalizador = MinMaxScaler()"
      ],
      "metadata": {
        "id": "kg-JEQqp-lJM"
      },
      "execution_count": null,
      "outputs": []
    },
    {
      "cell_type": "code",
      "source": [
        "normalizador.fit(X_train)"
      ],
      "metadata": {
        "id": "nfJg3C2h-yGM"
      },
      "execution_count": null,
      "outputs": []
    },
    {
      "cell_type": "code",
      "source": [
        "X_train_normalizado = normalizador.transform(X_train)\n",
        "X_test_normalizado = normalizador.transform(X_test)"
      ],
      "metadata": {
        "id": "mWwTArGBAP5Y"
      },
      "execution_count": null,
      "outputs": []
    }
  ]
}