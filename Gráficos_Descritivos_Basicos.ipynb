{
  "nbformat": 4,
  "nbformat_minor": 0,
  "metadata": {
    "colab": {
      "provenance": [],
      "authorship_tag": "ABX9TyPScjl0bHNhMXNSmaEHib/6",
      "include_colab_link": true
    },
    "kernelspec": {
      "name": "python3",
      "display_name": "Python 3"
    },
    "language_info": {
      "name": "python"
    }
  },
  "cells": [
    {
      "cell_type": "markdown",
      "metadata": {
        "id": "view-in-github",
        "colab_type": "text"
      },
      "source": [
        "<a href=\"https://colab.research.google.com/github/Pedro-hn/Pre-processing/blob/main/Gr%C3%A1ficos_Descritivos_Basicos.ipynb\" target=\"_parent\"><img src=\"https://colab.research.google.com/assets/colab-badge.svg\" alt=\"Open In Colab\"/></a>"
      ]
    },
    {
      "cell_type": "code",
      "source": [
        "import pandas as pd\n",
        "import seaborn as sns\n",
        "import matplotlib.pyplot as plt"
      ],
      "metadata": {
        "id": "5joj5fcm8nif"
      },
      "execution_count": null,
      "outputs": []
    },
    {
      "cell_type": "code",
      "execution_count": null,
      "metadata": {
        "id": "2mS182zmVg_h"
      },
      "outputs": [],
      "source": [
        "# Histograma\n",
        "import warnings\n",
        "warnings.filterwarnings(\"ignore\")\n",
        "\n",
        "for i in dados.select_dtypes(include=\"number\").columns:\n",
        "  sns.histplot(data=dados, x=i)\n",
        "  plt.show()"
      ]
    },
    {
      "cell_type": "code",
      "source": [
        "# Gráfico de Boxplot\n",
        "import warnings\n",
        "warnings.filterwarnings(\"ignore\")\n",
        "\n",
        "for i in dados.select_dtypes(include=\"number\").columns:\n",
        "  sns.boxplot(data=dados, x=i)\n",
        "  plt.show()"
      ],
      "metadata": {
        "id": "oEZAJmVm8N0s"
      },
      "execution_count": null,
      "outputs": []
    },
    {
      "cell_type": "code",
      "source": [
        "# Gráfico de Dispersão\n",
        "import warnings\n",
        "warnings.filterwarnings(\"ignore\")\n",
        "\n",
        "for i in dados.select_dtypes(include=\"number\").columns:\n",
        "  sns.scatterplot(data=dados, x=i, y= \"variavel resposta\")\n",
        "  plt.show()"
      ],
      "metadata": {
        "id": "mbjJDJqB84D4"
      },
      "execution_count": null,
      "outputs": []
    },
    {
      "cell_type": "code",
      "source": [
        "# Correlação\n",
        "\n",
        "correlacao = dados.select_dtypes(include=\"number\").corr()\n",
        "plt.figure(figsize=(15,15))\n",
        "sns.heatmap(correlacao, annot=True, cmap=\"Blues\")"
      ],
      "metadata": {
        "id": "6mwZis7s-Gzc"
      },
      "execution_count": null,
      "outputs": []
    }
  ]
}